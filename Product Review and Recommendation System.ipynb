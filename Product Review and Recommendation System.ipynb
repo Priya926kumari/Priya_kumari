{
 "cells": [
  {
   "cell_type": "markdown",
   "id": "a0d76735",
   "metadata": {},
   "source": [
    "# Product Review and Recommendation System\n",
    "## Final Project Part 2\n",
    "\n",
    "\n"
   ]
  },
  {
   "cell_type": "code",
   "execution_count": 1,
   "id": "62dc27e6",
   "metadata": {},
   "outputs": [],
   "source": [
    "import sqlite3         \n",
    "import pandas as pd"
   ]
  },
  {
   "cell_type": "code",
   "execution_count": 2,
   "id": "9a7acf45",
   "metadata": {},
   "outputs": [],
   "source": [
    "conn = sqlite3.connect('amazon_project.db')   \n",
    "c = conn.cursor()"
   ]
  },
  {
   "cell_type": "code",
   "execution_count": 3,
   "id": "736ab4fd",
   "metadata": {},
   "outputs": [
    {
     "data": {
      "text/plain": [
       "1465"
      ]
     },
     "execution_count": 3,
     "metadata": {},
     "output_type": "execute_result"
    }
   ],
   "source": [
    "amazon_data = pd.read_csv(r'amazon.csv')       \n",
    "amazon_data.to_sql('amazon_data', conn, if_exists='append', index = False) "
   ]
  },
  {
   "cell_type": "markdown",
   "id": "8c6d1094",
   "metadata": {},
   "source": [
    "## Cleaning Data"
   ]
  },
  {
   "cell_type": "code",
   "execution_count": 5,
   "id": "029ffa27",
   "metadata": {},
   "outputs": [
    {
     "data": {
      "text/plain": [
       "<sqlite3.Cursor at 0x2d47e055640>"
      ]
     },
     "execution_count": 5,
     "metadata": {},
     "output_type": "execute_result"
    }
   ],
   "source": [
    "\n",
    "c.execute('''           \n",
    "UPDATE amazon_data\n",
    "SET discounted_price = CAST(REPLACE(REPLACE(discounted_price, \"₹\", \"\"), \",\", \"\") AS float),\n",
    "    actual_price = CAST(REPLACE(REPLACE(actual_price, \"₹\", \"\"), \",\", \"\") AS float);\n",
    "''')\n",
    "\n"
   ]
  },
  {
   "cell_type": "code",
   "execution_count": 11,
   "id": "78992bb2",
   "metadata": {},
   "outputs": [
    {
     "data": {
      "text/plain": [
       "<sqlite3.Cursor at 0x2d47e055640>"
      ]
     },
     "execution_count": 11,
     "metadata": {},
     "output_type": "execute_result"
    }
   ],
   "source": [
    "\n",
    "c.execute('''\n",
    "UPDATE amazon_data\n",
    "SET discount_percentage = CAST(REPLACE(discount_percentage, '%', '') AS float) / 100;\n",
    "''')\n",
    "\n"
   ]
  },
  {
   "cell_type": "code",
   "execution_count": 14,
   "id": "c89d82be",
   "metadata": {},
   "outputs": [
    {
     "name": "stdout",
     "output_type": "stream",
     "text": [
      "   Rating  COUNT\n",
      "0       2      1\n",
      "1     2.3      1\n",
      "2     2.6      1\n",
      "3     2.8      2\n",
      "4     2.9      1\n",
      "5       3      1\n",
      "6     3.0      3\n",
      "7     3.1      4\n",
      "8     3.2      2\n",
      "9     3.3     16\n",
      "10    3.4     10\n",
      "11    3.5     26\n",
      "12    3.6     35\n",
      "13    3.7     42\n",
      "14    3.8     86\n",
      "15    3.9    123\n",
      "16      4     52\n",
      "17    4.0    129\n",
      "18    4.1    244\n",
      "19    4.2    228\n",
      "20    4.3    230\n",
      "21    4.4    123\n",
      "22    4.5     75\n",
      "23    4.6     17\n",
      "24    4.7      6\n",
      "25    4.8      3\n",
      "26    5.0      3\n",
      "27      |      1\n"
     ]
    }
   ],
   "source": [
    "\n",
    "c.execute('''\n",
    "SELECT rating, COUNT(*) as count\n",
    "FROM amazon_data\n",
    "GROUP BY rating;\n",
    "''')\n",
    "rating_df = pd.DataFrame(c.fetchall(),columns=['Rating',\n",
    "'COUNT'])\n",
    "print(rating_df)"
   ]
  },
  {
   "cell_type": "code",
   "execution_count": 15,
   "id": "6c25d7a3",
   "metadata": {},
   "outputs": [
    {
     "data": {
      "text/plain": [
       "<sqlite3.Cursor at 0x2d47e055640>"
      ]
     },
     "execution_count": 15,
     "metadata": {},
     "output_type": "execute_result"
    }
   ],
   "source": [
    "\n",
    "c.execute('''\n",
    "UPDATE amazon_data\n",
    "SET rating = CAST(REPLACE(rating, '|', '4.0') AS float);\n",
    "''')"
   ]
  },
  {
   "cell_type": "code",
   "execution_count": 20,
   "id": "8c60837a",
   "metadata": {},
   "outputs": [
    {
     "name": "stdout",
     "output_type": "stream",
     "text": [
      "   Rating  COUNT\n",
      "0     2.0      1\n",
      "1     2.3      1\n",
      "2     2.6      1\n",
      "3     2.8      2\n",
      "4     2.9      1\n",
      "5     3.0      4\n",
      "6     3.1      4\n",
      "7     3.2      2\n",
      "8     3.3     16\n",
      "9     3.4     10\n",
      "10    3.5     26\n",
      "11    3.6     35\n",
      "12    3.7     42\n",
      "13    3.8     86\n",
      "14    3.9    123\n",
      "15    4.0    182\n",
      "16    4.1    244\n",
      "17    4.2    228\n",
      "18    4.3    230\n",
      "19    4.4    123\n",
      "20    4.5     75\n",
      "21    4.6     17\n",
      "22    4.7      6\n",
      "23    4.8      3\n",
      "24    5.0      3\n"
     ]
    }
   ],
   "source": [
    "\n",
    "c.execute('''\n",
    "SELECT rating, COUNT(*) as count\n",
    "FROM amazon_data\n",
    "GROUP BY rating;\n",
    "''')\n",
    "rating_df = pd.DataFrame(c.fetchall(),columns=['Rating',\n",
    "'COUNT'])\n",
    "print(rating_df)"
   ]
  },
  {
   "cell_type": "code",
   "execution_count": 21,
   "id": "112415e4",
   "metadata": {},
   "outputs": [
    {
     "data": {
      "text/plain": [
       "<sqlite3.Cursor at 0x2d47e055640>"
      ]
     },
     "execution_count": 21,
     "metadata": {},
     "output_type": "execute_result"
    }
   ],
   "source": [
    "\n",
    "c.execute('''\n",
    "UPDATE amazon_data\n",
    "SET rating_count = CAST(REPLACE(rating_count, ',', '') AS float);\n",
    "''')\n"
   ]
  },
  {
   "cell_type": "code",
   "execution_count": 26,
   "id": "18574d30",
   "metadata": {},
   "outputs": [
    {
     "data": {
      "text/plain": [
       "<sqlite3.Cursor at 0x2d47e055640>"
      ]
     },
     "execution_count": 26,
     "metadata": {},
     "output_type": "execute_result"
    }
   ],
   "source": [
    "\n",
    "c.execute('''\n",
    "    ALTER TABLE amazon_data\n",
    "    DROP COLUMN img_link;\n",
    "''')\n",
    "\n",
    "c.execute('''\n",
    "    ALTER TABLE amazon_data\n",
    "    DROP COLUMN product_link;\n",
    "''')\n"
   ]
  },
  {
   "cell_type": "code",
   "execution_count": 31,
   "id": "e99eca72",
   "metadata": {},
   "outputs": [
    {
     "data": {
      "text/plain": [
       "<sqlite3.Cursor at 0x2d47e055640>"
      ]
     },
     "execution_count": 31,
     "metadata": {},
     "output_type": "execute_result"
    }
   ],
   "source": [
    "\n",
    "c.execute('''\n",
    "    ALTER TABLE amazon_data\n",
    "    ADD COLUMN category_1 TEXT;\n",
    "''')\n",
    "\n",
    "c.execute('''\n",
    "    ALTER TABLE amazon_data\n",
    "    ADD COLUMN category_2 TEXT;\n",
    "''')\n",
    "\n",
    "c.execute('''\n",
    "    ALTER TABLE amazon_data\n",
    "    ADD COLUMN category_3 TEXT;\n",
    "''')\n"
   ]
  },
  {
   "cell_type": "code",
   "execution_count": 32,
   "id": "7871a117",
   "metadata": {},
   "outputs": [
    {
     "data": {
      "text/plain": [
       "<sqlite3.Cursor at 0x2d47e055640>"
      ]
     },
     "execution_count": 32,
     "metadata": {},
     "output_type": "execute_result"
    }
   ],
   "source": [
    "\n",
    "c.execute('''\n",
    "    UPDATE amazon_data\n",
    "SET category_1 = SUBSTR(category, 1, INSTR(category, '|')-1),\n",
    "   category_2 = CASE WHEN INSTR(category, '|') > 0 THEN SUBSTR(category, INSTR(category, '|')+1)\n",
    "                      ELSE NULL\n",
    "                 END,\n",
    "    category_3 = CASE WHEN INSTR(category_2, '|') > 0 THEN SUBSTR(category_2, INSTR(category_2, '|')+1)\n",
    "                      ELSE NULL\n",
    "                 END;\n",
    "''')\n",
    "\n"
   ]
  },
  {
   "cell_type": "code",
   "execution_count": 39,
   "id": "e9c98723",
   "metadata": {},
   "outputs": [
    {
     "data": {
      "text/plain": [
       "<sqlite3.Cursor at 0x2d47e055640>"
      ]
     },
     "execution_count": 39,
     "metadata": {},
     "output_type": "execute_result"
    }
   ],
   "source": [
    "\n",
    "c.execute('''\n",
    "    ALTER TABLE amazon_data\n",
    "    ADD COLUMN category TEXT;\n",
    "''')"
   ]
  },
  {
   "cell_type": "code",
   "execution_count": 40,
   "id": "3bb68c64",
   "metadata": {},
   "outputs": [
    {
     "data": {
      "text/plain": [
       "<sqlite3.Cursor at 0x2d47e055640>"
      ]
     },
     "execution_count": 40,
     "metadata": {},
     "output_type": "execute_result"
    }
   ],
   "source": [
    "\n",
    "c.execute('''\n",
    "    UPDATE amazon_data\n",
    "SET category = category_2 \n",
    "''')"
   ]
  },
  {
   "cell_type": "code",
   "execution_count": 41,
   "id": "d784df91",
   "metadata": {},
   "outputs": [
    {
     "data": {
      "text/plain": [
       "<sqlite3.Cursor at 0x2d47e055640>"
      ]
     },
     "execution_count": 41,
     "metadata": {},
     "output_type": "execute_result"
    }
   ],
   "source": [
    "\n",
    "c.execute('''\n",
    "    UPDATE amazon_data\n",
    "SET category_2 = SUBSTR(category, 1, INSTR(category, '|')-1)\n",
    "''')\n"
   ]
  },
  {
   "cell_type": "code",
   "execution_count": 48,
   "id": "c65bc9b7",
   "metadata": {},
   "outputs": [
    {
     "data": {
      "text/plain": [
       "<sqlite3.Cursor at 0x2d47e055640>"
      ]
     },
     "execution_count": 48,
     "metadata": {},
     "output_type": "execute_result"
    }
   ],
   "source": [
    "\n",
    "c.execute('''\n",
    "    UPDATE amazon_data\n",
    "SET category_3 = CASE WHEN INSTR(category, '|') > 0 THEN SUBSTR(category, INSTR(category, '|')+1)\n",
    "                      ELSE NULL\n",
    "                 END;\n",
    "''')"
   ]
  },
  {
   "cell_type": "code",
   "execution_count": 50,
   "id": "5b987cd6",
   "metadata": {},
   "outputs": [
    {
     "data": {
      "text/plain": [
       "<sqlite3.Cursor at 0x2d47e055640>"
      ]
     },
     "execution_count": 50,
     "metadata": {},
     "output_type": "execute_result"
    }
   ],
   "source": [
    "\n",
    "c.execute('''\n",
    "    ALTER TABLE amazon_data\n",
    "    DROP COLUMN category;\n",
    "''')"
   ]
  },
  {
   "cell_type": "code",
   "execution_count": 35,
   "id": "1756c25f",
   "metadata": {},
   "outputs": [
    {
     "name": "stdout",
     "output_type": "stream",
     "text": [
      "              Category_1  COUNT\n",
      "0            Electronics    526\n",
      "1  Computers&Accessories    453\n",
      "2           Home&Kitchen    448\n",
      "3         OfficeProducts     31\n",
      "4     MusicalInstruments      2\n",
      "5        HomeImprovement      2\n",
      "6             Toys&Games      1\n",
      "7    Health&PersonalCare      1\n",
      "8          Car&Motorbike      1\n"
     ]
    }
   ],
   "source": [
    "\n",
    "c.execute('''\n",
    "SELECT category_1, COUNT(*) as count\n",
    "FROM amazon_data\n",
    "GROUP BY category_1\n",
    "ORDER BY count DESC;\n",
    "''')\n",
    "category_1_df = pd.DataFrame(c.fetchall(),columns=['Category_1',\n",
    "'COUNT'])\n",
    "print(category_1_df)"
   ]
  },
  {
   "cell_type": "code",
   "execution_count": 36,
   "id": "5a208560",
   "metadata": {},
   "outputs": [
    {
     "data": {
      "text/plain": [
       "<sqlite3.Cursor at 0x2d47e055640>"
      ]
     },
     "execution_count": 36,
     "metadata": {},
     "output_type": "execute_result"
    }
   ],
   "source": [
    "\n",
    "c.execute(\"UPDATE amazon_data SET category_1 = REPLACE(category_1, '&', ' & ') WHERE category_1 LIKE '%&%';\")\n",
    "c.execute(\"UPDATE amazon_data SET category_1 = 'Office Products' WHERE category_1 = 'OfficeProducts';\")\n",
    "c.execute(\"UPDATE amazon_data SET category_1 = 'Musical Instruments' WHERE category_1 = 'MusicalInstruments';\")\n",
    "c.execute(\"UPDATE amazon_data SET category_1 = 'Home Improvement' WHERE category_1 = 'HomeImprovement';\")"
   ]
  },
  {
   "cell_type": "code",
   "execution_count": 42,
   "id": "613f2205",
   "metadata": {},
   "outputs": [
    {
     "name": "stdout",
     "output_type": "stream",
     "text": [
      "                                 Category_2  COUNT\n",
      "0                   Accessories&Peripherals    381\n",
      "1                    Kitchen&HomeAppliances    308\n",
      "2                      HomeTheater,TV&Video    162\n",
      "3                       Mobiles&Accessories    161\n",
      "4                Heating,Cooling&AirQuality    116\n",
      "5                        WearableTechnology     76\n",
      "6            Headphones,Earbuds&Accessories     66\n",
      "7                         NetworkingDevices     33\n",
      "8                       OfficePaperProducts     27\n",
      "9               ExternalDevices&DataStorage     18\n",
      "10                 HomeStorage&Organization     16\n",
      "11                                HomeAudio     16\n",
      "12                      Cameras&Photography     16\n",
      "13                              Accessories     14\n",
      "14                Printers,Inks&Accessories     11\n",
      "15  GeneralPurposeBatteries&BatteryChargers     10\n",
      "16                                               8\n",
      "17                           CraftMaterials      7\n",
      "18                               Components      5\n",
      "19                        OfficeElectronics      4\n",
      "20                              Microphones      2\n",
      "21                               Electrical      2\n",
      "22                         PowerAccessories      1\n",
      "23                                  Laptops      1\n",
      "24                           Kitchen&Dining      1\n",
      "25            HomeMedicalSupplies&Equipment      1\n",
      "26                           CarAccessories      1\n",
      "27                              Arts&Crafts      1\n"
     ]
    }
   ],
   "source": [
    "\n",
    "c.execute('''\n",
    "SELECT category_2, COUNT(*) as count\n",
    "FROM amazon_data\n",
    "GROUP BY category_2\n",
    "ORDER BY count DESC;\n",
    "''')\n",
    "category_2_df = pd.DataFrame(c.fetchall(),columns=['Category_2',\n",
    "'COUNT'])\n",
    "print(category_2_df)"
   ]
  },
  {
   "cell_type": "code",
   "execution_count": 49,
   "id": "5aaddca9",
   "metadata": {},
   "outputs": [
    {
     "name": "stdout",
     "output_type": "stream",
     "text": [
      "                                         Category_3  COUNT\n",
      "0               Cables&Accessories|Cables|USBCables    233\n",
      "1                                      SmartWatches     76\n",
      "2              Smartphones&BasicMobiles|Smartphones     68\n",
      "3                      Televisions|SmartTelevisions     63\n",
      "4                                 Headphones|In-Ear     52\n",
      "..                                              ...    ...\n",
      "203                Accessories|Cables|SpeakerCables      1\n",
      "204  Accessories|Batteries&Chargers|BatteryChargers      1\n",
      "205                            Accessories|Adapters      1\n",
      "206                           Accessories|3DGlasses      1\n",
      "207                          AVReceivers&Amplifiers      1\n",
      "\n",
      "[208 rows x 2 columns]\n"
     ]
    }
   ],
   "source": [
    "\n",
    "c.execute('''\n",
    "SELECT category_3, COUNT(*) as count\n",
    "FROM amazon_data\n",
    "GROUP BY category_3\n",
    "ORDER BY count DESC;\n",
    "''')\n",
    "category_3_df = pd.DataFrame(c.fetchall(),columns=['Category_3',\n",
    "'COUNT'])\n",
    "print(category_3_df)"
   ]
  },
  {
   "cell_type": "code",
   "execution_count": 56,
   "id": "b169b197",
   "metadata": {},
   "outputs": [
    {
     "data": {
      "text/plain": [
       "<sqlite3.Cursor at 0x2d47e055640>"
      ]
     },
     "execution_count": 56,
     "metadata": {},
     "output_type": "execute_result"
    }
   ],
   "source": [
    "\n",
    "\n",
    "# Replace '&' with ' & '\n",
    "c.execute('''\n",
    "    UPDATE amazon_data\n",
    "    SET category_2 = REPLACE(category_2, '&', ' & ')\n",
    "''')\n",
    "\n",
    "# Replace ',' with ', '\n",
    "c.execute('''\n",
    "    UPDATE amazon_data\n",
    "    SET category_2 = REPLACE(category_2, ',', ', ')\n",
    "''')\n",
    "\n",
    "# Replace 'HomeAppliances' with 'Home Appliances'\n",
    "c.execute('''\n",
    "    UPDATE amazon_data\n",
    "    SET category_2 = REPLACE(category_2, 'HomeAppliances', 'Home Appliances')\n",
    "''')\n",
    "\n",
    "# Replace 'AirQuality' with 'Air Quality'\n",
    "c.execute('''\n",
    "    UPDATE amazon_data\n",
    "    SET category_2 = REPLACE(category_2, 'AirQuality', 'Air Quality')\n",
    "''')\n",
    "\n",
    "# Replace 'WearableTechnology' with 'Wearable Technology'\n",
    "c.execute('''\n",
    "    UPDATE amazon_data\n",
    "    SET category_2 = REPLACE(category_2, 'WearableTechnology', 'Wearable Technology')\n",
    "''')\n",
    "\n",
    "# Replace 'NetworkingDevices' with 'Networking Devices'\n",
    "c.execute('''\n",
    "    UPDATE amazon_data\n",
    "    SET category_2 = REPLACE(category_2, 'NetworkingDevices', 'Networking Devices')\n",
    "''')\n",
    "\n",
    "# Replace 'OfficePaperProducts' with 'Office Paper Products'\n",
    "c.execute('''\n",
    "    UPDATE amazon_data\n",
    "    SET category_2 = REPLACE(category_2, 'OfficePaperProducts', 'Office Paper Products')\n",
    "''')\n",
    "\n",
    "# Replace 'ExternalDevices' with 'External Devices'\n",
    "c.execute('''\n",
    "    UPDATE amazon_data\n",
    "    SET category_2 = REPLACE(category_2, 'ExternalDevices', 'External Devices')\n",
    "''')\n",
    "\n",
    "# Replace 'DataStorage' with 'Data Storage'\n",
    "c.execute('''\n",
    "    UPDATE amazon_data\n",
    "    SET category_2 = REPLACE(category_2, 'DataStorage', 'Data Storage')\n",
    "''')\n",
    "\n",
    "# Replace 'HomeStorage' with 'Home Storage'\n",
    "c.execute('''\n",
    "    UPDATE amazon_data\n",
    "    SET category_2 = REPLACE(category_2, 'HomeStorage', 'Home Storage')\n",
    "''')\n",
    "\n",
    "# Replace 'HomeAudio' with 'Home Audio'\n",
    "c.execute('''\n",
    "    UPDATE amazon_data\n",
    "    SET category_2 = REPLACE(category_2, 'HomeAudio', 'Home Audio')\n",
    "''')\n",
    "\n",
    "# Replace 'GeneralPurposeBatteries' with 'General Purpose Batteries'\n",
    "c.execute('''\n",
    "    UPDATE amazon_data\n",
    "    SET category_2 = REPLACE(category_2, 'GeneralPurposeBatteries', 'General Purpose Batteries')\n",
    "''')\n",
    "\n",
    "# Replace 'BatteryChargers' with 'Battery Chargers'\n",
    "c.execute('''\n",
    "    UPDATE amazon_data\n",
    "    SET category_2 = REPLACE(category_2, 'BatteryChargers', 'Battery Chargers')\n",
    "''')\n",
    "\n",
    "# Replace 'CraftMaterials' with 'Craft Materials'\n",
    "c.execute('''\n",
    "    UPDATE amazon_data\n",
    "    SET category_2 = REPLACE(category_2, 'CraftMaterials', 'Craft Materials')\n",
    "''')\n",
    "\n",
    "# Replace 'OfficeElectronics' with 'Office Electronics'\n",
    "c.execute('''\n",
    "    UPDATE amazon_data\n",
    "    SET category_2 = REPLACE(category_2, 'OfficeElectronics', 'Office Electronics')\n",
    "''')\n",
    "\n",
    "# Replace 'PowerAccessories' with 'Power Accessories'\n",
    "c.execute('''\n",
    "    UPDATE amazon_data\n",
    "    SET category_2 = REPLACE(category_2, 'PowerAccessories', 'Power Accessories')\n",
    "''')\n",
    "\n",
    "# Replace 'CarAccessories' with 'Car Accessories'\n",
    "c.execute('''\n",
    "    UPDATE amazon_data\n",
    "    SET category_2 = REPLACE(category_2, 'CarAccessories', 'Car Accessories')\n",
    "''')\n",
    "\n",
    "# Replace 'HomeMedicalSupplies' with 'Home Medical Supplies'\n",
    "c.execute('''\n",
    "    UPDATE amazon_data\n",
    "    SET category_2 = REPLACE(category_2,'HomeMedicalSupplies','Home Medical Supplies')\n",
    "''')\n",
    "\n",
    "c.execute('''\n",
    "    UPDATE amazon_data\n",
    "    SET category_2 = REPLACE(category_2,'HomeTheater','Home Theater')\n",
    "''')\n"
   ]
  },
  {
   "cell_type": "code",
   "execution_count": 57,
   "id": "4a7b00a2",
   "metadata": {},
   "outputs": [
    {
     "name": "stdout",
     "output_type": "stream",
     "text": [
      "                                      Category_2  COUNT\n",
      "0                      Accessories & Peripherals    381\n",
      "1                      Kitchen & Home Appliances    308\n",
      "2                       Home Theater, TV & Video    162\n",
      "3                          Mobiles & Accessories    161\n",
      "4                 Heating, Cooling & Air Quality    116\n",
      "5                            Wearable Technology     76\n",
      "6              Headphones, Earbuds & Accessories     66\n",
      "7                             Networking Devices     33\n",
      "8                          Office Paper Products     27\n",
      "9                External Devices & Data Storage     18\n",
      "10                   Home Storage & Organization     16\n",
      "11                                    Home Audio     16\n",
      "12                         Cameras & Photography     16\n",
      "13                                   Accessories     14\n",
      "14                  Printers, Inks & Accessories     11\n",
      "15  General Purpose Batteries & Battery Chargers     10\n",
      "16                                                    8\n",
      "17                               Craft Materials      7\n",
      "18                                    Components      5\n",
      "19                            Office Electronics      4\n",
      "20                                   Microphones      2\n",
      "21                                    Electrical      2\n",
      "22                             Power Accessories      1\n",
      "23                                       Laptops      1\n",
      "24                              Kitchen & Dining      1\n",
      "25             Home Medical Supplies & Equipment      1\n",
      "26                               Car Accessories      1\n",
      "27                                 Arts & Crafts      1\n"
     ]
    }
   ],
   "source": [
    "\n",
    "c.execute('''\n",
    "SELECT category_2, COUNT(*) as count\n",
    "FROM amazon_data\n",
    "GROUP BY category_2\n",
    "ORDER BY count DESC;\n",
    "''')\n",
    "category_2_df = pd.DataFrame(c.fetchall(),columns=['Category_2',\n",
    "'COUNT'])\n",
    "print(category_2_df)"
   ]
  },
  {
   "cell_type": "code",
   "execution_count": 58,
   "id": "2a44a2af",
   "metadata": {},
   "outputs": [
    {
     "data": {
      "text/plain": [
       "<sqlite3.Cursor at 0x2d47e055640>"
      ]
     },
     "execution_count": 58,
     "metadata": {},
     "output_type": "execute_result"
    }
   ],
   "source": [
    "\n",
    "c.execute('''\n",
    "UPDATE amazon_data\n",
    "SET product_id = TRIM(product_id);\n",
    "''')\n"
   ]
  },
  {
   "cell_type": "code",
   "execution_count": 59,
   "id": "aafdf9d2",
   "metadata": {},
   "outputs": [
    {
     "data": {
      "text/plain": [
       "<sqlite3.Cursor at 0x2d47e055640>"
      ]
     },
     "execution_count": 59,
     "metadata": {},
     "output_type": "execute_result"
    }
   ],
   "source": [
    "\n",
    "c.execute('''\n",
    "    ALTER TABLE amazon_data\n",
    "    ADD COLUMN rating_score TEXT;\n",
    "''')"
   ]
  },
  {
   "cell_type": "code",
   "execution_count": 105,
   "id": "4bce8a25",
   "metadata": {},
   "outputs": [
    {
     "data": {
      "text/plain": [
       "<sqlite3.Cursor at 0x2d47e055640>"
      ]
     },
     "execution_count": 105,
     "metadata": {},
     "output_type": "execute_result"
    }
   ],
   "source": [
    "\n",
    "c.execute('''\n",
    "UPDATE amazon_data\n",
    "SET rating_score = \n",
    "    CASE \n",
    "        WHEN rating < 2.0 THEN 'Poor'\n",
    "        WHEN rating < 3.0 THEN 'Below Average'\n",
    "        WHEN rating < 4.0 THEN 'Average'\n",
    "        WHEN rating < 5.0 THEN 'Above Average'\n",
    "        ELSE 'Excellent'\n",
    "    END;\n",
    "''')\n"
   ]
  },
  {
   "cell_type": "code",
   "execution_count": 63,
   "id": "e9883232",
   "metadata": {},
   "outputs": [
    {
     "data": {
      "text/plain": [
       "<sqlite3.Cursor at 0x2d47e055640>"
      ]
     },
     "execution_count": 63,
     "metadata": {},
     "output_type": "execute_result"
    }
   ],
   "source": [
    "\n",
    "c.execute('''\n",
    "ALTER TABLE amazon_data ADD COLUMN difference_price FLOAT;\n",
    "''')"
   ]
  },
  {
   "cell_type": "code",
   "execution_count": 65,
   "id": "302ca8b2",
   "metadata": {},
   "outputs": [
    {
     "data": {
      "text/plain": [
       "<sqlite3.Cursor at 0x2d47e055640>"
      ]
     },
     "execution_count": 65,
     "metadata": {},
     "output_type": "execute_result"
    }
   ],
   "source": [
    "\n",
    "c.execute('''\n",
    "UPDATE amazon_data\n",
    "SET difference_price = actual_price - discounted_price;\n",
    "''')\n"
   ]
  },
  {
   "cell_type": "code",
   "execution_count": 67,
   "id": "651c5324",
   "metadata": {},
   "outputs": [
    {
     "data": {
      "text/plain": [
       "<sqlite3.Cursor at 0x2d47e055640>"
      ]
     },
     "execution_count": 67,
     "metadata": {},
     "output_type": "execute_result"
    }
   ],
   "source": [
    "\n",
    "c.execute('''\n",
    "    ALTER TABLE amazon_data\n",
    "    DROP COLUMN category_3;\n",
    "''')"
   ]
  },
  {
   "cell_type": "code",
   "execution_count": 74,
   "id": "207dc077",
   "metadata": {},
   "outputs": [
    {
     "data": {
      "text/plain": [
       "product_id              object\n",
       "product_name            object\n",
       "discounted_price        object\n",
       "actual_price            object\n",
       "discount_percentage     object\n",
       "rating                  object\n",
       "rating_count            object\n",
       "about_product           object\n",
       "user_id                 object\n",
       "user_name               object\n",
       "review_id               object\n",
       "review_title            object\n",
       "review_content          object\n",
       "category_1              object\n",
       "category_2              object\n",
       "rating_score            object\n",
       "difference_price       float64\n",
       "dtype: object"
      ]
     },
     "execution_count": 74,
     "metadata": {},
     "output_type": "execute_result"
    }
   ],
   "source": [
    "\n",
    "df = pd.read_sql_query(\"SELECT * FROM amazon_data\", conn)\n",
    "df.dtypes"
   ]
  },
  {
   "cell_type": "code",
   "execution_count": 93,
   "id": "5bfe2ac9",
   "metadata": {},
   "outputs": [
    {
     "name": "stdout",
     "output_type": "stream",
     "text": [
      "(0, 'product_id', 'TEXT', 0, None, 0)\n",
      "(1, 'product_name', 'TEXT', 0, None, 0)\n",
      "(2, 'about_product', 'TEXT', 0, None, 0)\n",
      "(3, 'user_id', 'TEXT', 0, None, 0)\n",
      "(4, 'user_name', 'TEXT', 0, None, 0)\n",
      "(5, 'review_id', 'TEXT', 0, None, 0)\n",
      "(6, 'review_title', 'TEXT', 0, None, 0)\n",
      "(7, 'review_content', 'TEXT', 0, None, 0)\n",
      "(8, 'category_1', 'TEXT', 0, None, 0)\n",
      "(9, 'category_2', 'TEXT', 0, None, 0)\n",
      "(10, 'discounted_price', 'REAL', 0, None, 0)\n",
      "(11, 'actual_price', 'REAL', 0, None, 0)\n",
      "(12, 'discount_percentage', 'REAL', 0, None, 0)\n",
      "(13, 'rating', 'REAL', 0, None, 0)\n",
      "(14, 'rating_score', 'REAL', 0, None, 0)\n",
      "(15, 'difference_price', 'REAL', 0, None, 0)\n",
      "(16, 'rating_count', 'INTEGER', 0, None, 0)\n"
     ]
    }
   ],
   "source": [
    "\n",
    "c.execute('''\n",
    "PRAGMA table_info(amazon_data);\n",
    "''')\n",
    "result = c.fetchall()\n",
    "for row in result:\n",
    "    print(row)"
   ]
  },
  {
   "cell_type": "code",
   "execution_count": 81,
   "id": "e2974984",
   "metadata": {},
   "outputs": [],
   "source": [
    "\n",
    "def convert_columns_to_real(table_name, columns):\n",
    "    for col in columns:\n",
    "        c.execute(f\"ALTER TABLE {table_name} RENAME COLUMN {col} TO {col}_text;\")\n",
    "        c.execute(f\"ALTER TABLE {table_name} ADD COLUMN {col} REAL;\")\n",
    "        c.execute(f\"UPDATE {table_name} SET {col} = CAST({col}_text AS REAL);\")\n",
    "        c.execute(f\"ALTER TABLE {table_name} DROP COLUMN {col}_text;\")\n"
   ]
  },
  {
   "cell_type": "code",
   "execution_count": 82,
   "id": "2b93bb31",
   "metadata": {},
   "outputs": [],
   "source": [
    "\n",
    "convert_columns_to_real('amazon_data', ['discounted_price','actual_price','discount_percentage','rating','difference_price'])\n"
   ]
  },
  {
   "cell_type": "code",
   "execution_count": 91,
   "id": "edc50159",
   "metadata": {},
   "outputs": [],
   "source": [
    "\n",
    "def convert_columns_to_int(table_name, columns):\n",
    "    for col in columns:\n",
    "        c.execute(f\"ALTER TABLE {table_name} RENAME COLUMN {col} TO {col}_text;\")\n",
    "        c.execute(f\"ALTER TABLE {table_name} ADD COLUMN {col} INTEGER;\")\n",
    "        c.execute(f\"UPDATE {table_name} SET {col} = CAST({col}_text AS INTEGER);\")\n",
    "        c.execute(f\"ALTER TABLE {table_name} DROP COLUMN {col}_text;\")"
   ]
  },
  {
   "cell_type": "code",
   "execution_count": 92,
   "id": "2bfa4ab4",
   "metadata": {},
   "outputs": [],
   "source": [
    "#code block written by Aazin Shaikh\n",
    "convert_columns_to_int('amazon_data', ['rating_count'])\n"
   ]
  },
  {
   "cell_type": "markdown",
   "id": "b51ca2d8",
   "metadata": {},
   "source": [
    "## Normalizing cleaned data "
   ]
  },
  {
   "cell_type": "code",
   "execution_count": 108,
   "id": "41700ade",
   "metadata": {},
   "outputs": [
    {
     "data": {
      "text/plain": [
       "<sqlite3.Cursor at 0x2d47e055640>"
      ]
     },
     "execution_count": 108,
     "metadata": {},
     "output_type": "execute_result"
    }
   ],
   "source": [
    "\n",
    "c.execute('''\n",
    "CREATE TABLE products (\n",
    "  product_id TEXT PRIMARY KEY,\n",
    "  product_name TEXT,\n",
    "  discounted_price REAL,\n",
    "  actual_price REAL,\n",
    "  discount_percentage REAL,\n",
    "  rating REAL,\n",
    "  rating_count INTEGER,\n",
    "  about_product TEXT,\n",
    "  category_1 TEXT,\n",
    "  category_2 TEXT,\n",
    "  rating_score TEXT,\n",
    "  difference_price REAL\n",
    ");\n",
    "''')\n"
   ]
  },
  {
   "cell_type": "code",
   "execution_count": 109,
   "id": "1f0818fb",
   "metadata": {},
   "outputs": [
    {
     "data": {
      "text/plain": [
       "<sqlite3.Cursor at 0x2d47e055640>"
      ]
     },
     "execution_count": 109,
     "metadata": {},
     "output_type": "execute_result"
    }
   ],
   "source": [
    "\n",
    "c.execute('''\n",
    "INSERT INTO products (\n",
    "  product_id,\n",
    "  product_name,\n",
    "  discounted_price,\n",
    "  actual_price,\n",
    "  discount_percentage,\n",
    "  rating,\n",
    "  rating_count,\n",
    "  about_product,\n",
    "  category_1,\n",
    "  category_2,\n",
    "  rating_score,\n",
    "  difference_price\n",
    ")\n",
    "SELECT\n",
    "  product_id,\n",
    "  product_name,\n",
    "  discounted_price,\n",
    "  actual_price,\n",
    "  discount_percentage,\n",
    "  rating,\n",
    "  rating_count,\n",
    "  about_product,\n",
    "  category_1,\n",
    "  category_2,\n",
    "  rating_score,\n",
    "  difference_price\n",
    "FROM\n",
    "  amazon_data;\n",
    "''')\n",
    "\n",
    "\n"
   ]
  },
  {
   "cell_type": "code",
   "execution_count": 101,
   "id": "1394d470",
   "metadata": {},
   "outputs": [
    {
     "data": {
      "text/plain": [
       "<sqlite3.Cursor at 0x2d47e055640>"
      ]
     },
     "execution_count": 101,
     "metadata": {},
     "output_type": "execute_result"
    }
   ],
   "source": [
    "\n",
    "c.execute('''\n",
    "DELETE FROM amazon_data\n",
    "WHERE product_id IN (\n",
    "    SELECT product_id\n",
    "    FROM amazon_data\n",
    "    GROUP BY product_id\n",
    "    HAVING COUNT(*) > 1\n",
    ");\n",
    "''')\n"
   ]
  },
  {
   "cell_type": "code",
   "execution_count": 121,
   "id": "38af1292",
   "metadata": {},
   "outputs": [
    {
     "data": {
      "text/html": [
       "<div>\n",
       "<style scoped>\n",
       "    .dataframe tbody tr th:only-of-type {\n",
       "        vertical-align: middle;\n",
       "    }\n",
       "\n",
       "    .dataframe tbody tr th {\n",
       "        vertical-align: top;\n",
       "    }\n",
       "\n",
       "    .dataframe thead th {\n",
       "        text-align: right;\n",
       "    }\n",
       "</style>\n",
       "<table border=\"1\" class=\"dataframe\">\n",
       "  <thead>\n",
       "    <tr style=\"text-align: right;\">\n",
       "      <th></th>\n",
       "      <th>product_id</th>\n",
       "      <th>product_name</th>\n",
       "      <th>discounted_price</th>\n",
       "      <th>actual_price</th>\n",
       "      <th>discount_percentage</th>\n",
       "      <th>rating</th>\n",
       "      <th>rating_count</th>\n",
       "      <th>about_product</th>\n",
       "      <th>category_1</th>\n",
       "      <th>category_2</th>\n",
       "      <th>rating_score</th>\n",
       "      <th>difference_price</th>\n",
       "    </tr>\n",
       "  </thead>\n",
       "  <tbody>\n",
       "    <tr>\n",
       "      <th>0</th>\n",
       "      <td>B008IFXQFU</td>\n",
       "      <td>TP-Link USB WiFi Adapter for PC(TL-WN725N), N1...</td>\n",
       "      <td>499.0</td>\n",
       "      <td>999.0</td>\n",
       "      <td>0.50</td>\n",
       "      <td>4.2</td>\n",
       "      <td>179691.0</td>\n",
       "      <td>USB WiFi Adapter —— Speedy wireless transmissi...</td>\n",
       "      <td>Computers &amp; Accessories</td>\n",
       "      <td>Networking Devices</td>\n",
       "      <td>Above Average</td>\n",
       "      <td>500.0</td>\n",
       "    </tr>\n",
       "    <tr>\n",
       "      <th>1</th>\n",
       "      <td>B0B6F7LX4C</td>\n",
       "      <td>MI 80 cm (32 inches) 5A Series HD Ready Smart ...</td>\n",
       "      <td>13999.0</td>\n",
       "      <td>24999.0</td>\n",
       "      <td>0.44</td>\n",
       "      <td>4.2</td>\n",
       "      <td>32840.0</td>\n",
       "      <td>Note : The brands, Mi and Xiaomi, are part of ...</td>\n",
       "      <td>Electronics</td>\n",
       "      <td>Home Theater, TV &amp; Video</td>\n",
       "      <td>Above Average</td>\n",
       "      <td>11000.0</td>\n",
       "    </tr>\n",
       "    <tr>\n",
       "      <th>2</th>\n",
       "      <td>B0B1YVCJ2Y</td>\n",
       "      <td>Acer 80 cm (32 inches) I Series HD Ready Andro...</td>\n",
       "      <td>11499.0</td>\n",
       "      <td>19990.0</td>\n",
       "      <td>0.42</td>\n",
       "      <td>4.3</td>\n",
       "      <td>4703.0</td>\n",
       "      <td>Resolution : HD Ready (1366x768) | Refresh Rat...</td>\n",
       "      <td>Electronics</td>\n",
       "      <td>Home Theater, TV &amp; Video</td>\n",
       "      <td>Above Average</td>\n",
       "      <td>8491.0</td>\n",
       "    </tr>\n",
       "    <tr>\n",
       "      <th>3</th>\n",
       "      <td>B08B42LWKN</td>\n",
       "      <td>OnePlus 80 cm (32 inches) Y Series HD Ready LE...</td>\n",
       "      <td>14999.0</td>\n",
       "      <td>19999.0</td>\n",
       "      <td>0.25</td>\n",
       "      <td>4.2</td>\n",
       "      <td>34899.0</td>\n",
       "      <td>Resolution: HD Ready (1366x768) | Refresh Rate...</td>\n",
       "      <td>Electronics</td>\n",
       "      <td>Home Theater, TV &amp; Video</td>\n",
       "      <td>Above Average</td>\n",
       "      <td>5000.0</td>\n",
       "    </tr>\n",
       "    <tr>\n",
       "      <th>4</th>\n",
       "      <td>B0B3MMYHYW</td>\n",
       "      <td>OnePlus 126 cm (50 inches) Y Series 4K Ultra H...</td>\n",
       "      <td>32999.0</td>\n",
       "      <td>45999.0</td>\n",
       "      <td>0.28</td>\n",
       "      <td>4.2</td>\n",
       "      <td>7298.0</td>\n",
       "      <td>Resolution: 4K Ultra HD (3840x2160) | Bezel-le...</td>\n",
       "      <td>Electronics</td>\n",
       "      <td>Home Theater, TV &amp; Video</td>\n",
       "      <td>Above Average</td>\n",
       "      <td>13000.0</td>\n",
       "    </tr>\n",
       "    <tr>\n",
       "      <th>...</th>\n",
       "      <td>...</td>\n",
       "      <td>...</td>\n",
       "      <td>...</td>\n",
       "      <td>...</td>\n",
       "      <td>...</td>\n",
       "      <td>...</td>\n",
       "      <td>...</td>\n",
       "      <td>...</td>\n",
       "      <td>...</td>\n",
       "      <td>...</td>\n",
       "      <td>...</td>\n",
       "      <td>...</td>\n",
       "    </tr>\n",
       "    <tr>\n",
       "      <th>1254</th>\n",
       "      <td>B08L7J3T31</td>\n",
       "      <td>Noir Aqua - 5pcs PP Spun Filter + 1 Spanner | ...</td>\n",
       "      <td>379.0</td>\n",
       "      <td>919.0</td>\n",
       "      <td>0.59</td>\n",
       "      <td>4.0</td>\n",
       "      <td>1090.0</td>\n",
       "      <td>SUPREME QUALITY 90 GRAM 3 LAYER THIK PP SPUN F...</td>\n",
       "      <td>Home &amp; Kitchen</td>\n",
       "      <td>Kitchen &amp; Home Appliances</td>\n",
       "      <td>Above Average</td>\n",
       "      <td>540.0</td>\n",
       "    </tr>\n",
       "    <tr>\n",
       "      <th>1255</th>\n",
       "      <td>B01M6453MB</td>\n",
       "      <td>Prestige Delight PRWO Electric Rice Cooker (1 ...</td>\n",
       "      <td>2280.0</td>\n",
       "      <td>3045.0</td>\n",
       "      <td>0.25</td>\n",
       "      <td>4.1</td>\n",
       "      <td>4118.0</td>\n",
       "      <td>230 Volts, 400 watts, 1 Year</td>\n",
       "      <td>Home &amp; Kitchen</td>\n",
       "      <td>Kitchen &amp; Home Appliances</td>\n",
       "      <td>Above Average</td>\n",
       "      <td>765.0</td>\n",
       "    </tr>\n",
       "    <tr>\n",
       "      <th>1256</th>\n",
       "      <td>B009P2LIL4</td>\n",
       "      <td>Bajaj Majesty RX10 2000 Watts Heat Convector R...</td>\n",
       "      <td>2219.0</td>\n",
       "      <td>3080.0</td>\n",
       "      <td>0.28</td>\n",
       "      <td>3.6</td>\n",
       "      <td>468.0</td>\n",
       "      <td>International design and styling|Two heat sett...</td>\n",
       "      <td>Home &amp; Kitchen</td>\n",
       "      <td>Heating, Cooling &amp; Air Quality</td>\n",
       "      <td>Average</td>\n",
       "      <td>861.0</td>\n",
       "    </tr>\n",
       "    <tr>\n",
       "      <th>1257</th>\n",
       "      <td>B00J5DYCCA</td>\n",
       "      <td>Havells Ventil Air DSP 230mm Exhaust Fan (Pist...</td>\n",
       "      <td>1399.0</td>\n",
       "      <td>1890.0</td>\n",
       "      <td>0.26</td>\n",
       "      <td>4.0</td>\n",
       "      <td>8031.0</td>\n",
       "      <td>Fan sweep area: 230 MM ; Noise level: (40 - 45...</td>\n",
       "      <td>Home &amp; Kitchen</td>\n",
       "      <td>Heating, Cooling &amp; Air Quality</td>\n",
       "      <td>Above Average</td>\n",
       "      <td>491.0</td>\n",
       "    </tr>\n",
       "    <tr>\n",
       "      <th>1258</th>\n",
       "      <td>B01486F4G6</td>\n",
       "      <td>Borosil Jumbo 1000-Watt Grill Sandwich Maker (...</td>\n",
       "      <td>2863.0</td>\n",
       "      <td>3690.0</td>\n",
       "      <td>0.22</td>\n",
       "      <td>4.3</td>\n",
       "      <td>6987.0</td>\n",
       "      <td>Brand-Borosil, Specification â€“ 23V ~ 5Hz;1 W...</td>\n",
       "      <td>Home &amp; Kitchen</td>\n",
       "      <td>Kitchen &amp; Home Appliances</td>\n",
       "      <td>Above Average</td>\n",
       "      <td>827.0</td>\n",
       "    </tr>\n",
       "  </tbody>\n",
       "</table>\n",
       "<p>1259 rows × 12 columns</p>\n",
       "</div>"
      ],
      "text/plain": [
       "      product_id                                       product_name  \\\n",
       "0     B008IFXQFU  TP-Link USB WiFi Adapter for PC(TL-WN725N), N1...   \n",
       "1     B0B6F7LX4C  MI 80 cm (32 inches) 5A Series HD Ready Smart ...   \n",
       "2     B0B1YVCJ2Y  Acer 80 cm (32 inches) I Series HD Ready Andro...   \n",
       "3     B08B42LWKN  OnePlus 80 cm (32 inches) Y Series HD Ready LE...   \n",
       "4     B0B3MMYHYW  OnePlus 126 cm (50 inches) Y Series 4K Ultra H...   \n",
       "...          ...                                                ...   \n",
       "1254  B08L7J3T31  Noir Aqua - 5pcs PP Spun Filter + 1 Spanner | ...   \n",
       "1255  B01M6453MB  Prestige Delight PRWO Electric Rice Cooker (1 ...   \n",
       "1256  B009P2LIL4  Bajaj Majesty RX10 2000 Watts Heat Convector R...   \n",
       "1257  B00J5DYCCA  Havells Ventil Air DSP 230mm Exhaust Fan (Pist...   \n",
       "1258  B01486F4G6  Borosil Jumbo 1000-Watt Grill Sandwich Maker (...   \n",
       "\n",
       "      discounted_price  actual_price  discount_percentage  rating  \\\n",
       "0                499.0         999.0                 0.50     4.2   \n",
       "1              13999.0       24999.0                 0.44     4.2   \n",
       "2              11499.0       19990.0                 0.42     4.3   \n",
       "3              14999.0       19999.0                 0.25     4.2   \n",
       "4              32999.0       45999.0                 0.28     4.2   \n",
       "...                ...           ...                  ...     ...   \n",
       "1254             379.0         919.0                 0.59     4.0   \n",
       "1255            2280.0        3045.0                 0.25     4.1   \n",
       "1256            2219.0        3080.0                 0.28     3.6   \n",
       "1257            1399.0        1890.0                 0.26     4.0   \n",
       "1258            2863.0        3690.0                 0.22     4.3   \n",
       "\n",
       "      rating_count                                      about_product  \\\n",
       "0         179691.0  USB WiFi Adapter —— Speedy wireless transmissi...   \n",
       "1          32840.0  Note : The brands, Mi and Xiaomi, are part of ...   \n",
       "2           4703.0  Resolution : HD Ready (1366x768) | Refresh Rat...   \n",
       "3          34899.0  Resolution: HD Ready (1366x768) | Refresh Rate...   \n",
       "4           7298.0  Resolution: 4K Ultra HD (3840x2160) | Bezel-le...   \n",
       "...            ...                                                ...   \n",
       "1254        1090.0  SUPREME QUALITY 90 GRAM 3 LAYER THIK PP SPUN F...   \n",
       "1255        4118.0                       230 Volts, 400 watts, 1 Year   \n",
       "1256         468.0  International design and styling|Two heat sett...   \n",
       "1257        8031.0  Fan sweep area: 230 MM ; Noise level: (40 - 45...   \n",
       "1258        6987.0  Brand-Borosil, Specification â€“ 23V ~ 5Hz;1 W...   \n",
       "\n",
       "                   category_1                      category_2   rating_score  \\\n",
       "0     Computers & Accessories              Networking Devices  Above Average   \n",
       "1                 Electronics        Home Theater, TV & Video  Above Average   \n",
       "2                 Electronics        Home Theater, TV & Video  Above Average   \n",
       "3                 Electronics        Home Theater, TV & Video  Above Average   \n",
       "4                 Electronics        Home Theater, TV & Video  Above Average   \n",
       "...                       ...                             ...            ...   \n",
       "1254           Home & Kitchen       Kitchen & Home Appliances  Above Average   \n",
       "1255           Home & Kitchen       Kitchen & Home Appliances  Above Average   \n",
       "1256           Home & Kitchen  Heating, Cooling & Air Quality        Average   \n",
       "1257           Home & Kitchen  Heating, Cooling & Air Quality  Above Average   \n",
       "1258           Home & Kitchen       Kitchen & Home Appliances  Above Average   \n",
       "\n",
       "      difference_price  \n",
       "0                500.0  \n",
       "1              11000.0  \n",
       "2               8491.0  \n",
       "3               5000.0  \n",
       "4              13000.0  \n",
       "...                ...  \n",
       "1254             540.0  \n",
       "1255             765.0  \n",
       "1256             861.0  \n",
       "1257             491.0  \n",
       "1258             827.0  \n",
       "\n",
       "[1259 rows x 12 columns]"
      ]
     },
     "execution_count": 121,
     "metadata": {},
     "output_type": "execute_result"
    }
   ],
   "source": [
    "\n",
    "products_df = pd.read_sql_query(\"SELECT * FROM products\", conn)\n",
    "products_df"
   ]
  },
  {
   "cell_type": "code",
   "execution_count": 130,
   "id": "ffc66462",
   "metadata": {},
   "outputs": [],
   "source": [
    "\n",
    "temp_review_df = pd.read_sql_query(\"SELECT review_id, product_id, user_id, review_title, rating_score FROM amazon_data\", conn)"
   ]
  },
  {
   "cell_type": "code",
   "execution_count": 131,
   "id": "fb1278de",
   "metadata": {},
   "outputs": [
    {
     "data": {
      "text/plain": [
       "0       [R1LW6NWSVTVZ2H, R3VR5WFKUS15C5, R2F6GC79OYWUK...\n",
       "1       [R13UTIA6KOF6QV, R2UGDZSGFF01K7, RHHIZ45VYU5X6...\n",
       "2       [R1EBS3566VCSCG, R24MB66WRPSN2A, R25UU2M1B9BO5...\n",
       "3       [R3COVVOP2R7Z28, R2T6WHEO2ONNDD, RUFFV2QR43OCM...\n",
       "4       [R2J3Q3BUHJ2S7E, R2H2ELE1DG24VY, R1U1S7X7BPSZB...\n",
       "                              ...                        \n",
       "1254    [R3G3XFHPBFF0E8, R3C0BZCD32EIGW, R2EBVBCN9QPD9...\n",
       "1255    [R3DDL2UPKQ2CK9, R2SYYU1OATVIU5, R1VM993161IYR...\n",
       "1256    [R1TLRJVW4STY5I, R2O455KRN493R1, R3Q5MVGBRIAS2...\n",
       "1257    [R39Q2Y79MM9SWK, R3079BG1NIH6MB, R29A31ZELTZNJ...\n",
       "1258    [R20RBRZ0WEUJT9, ROKIFK9R2ISSE, R30EEG2FNJSN5I...\n",
       "Name: review_id, Length: 1259, dtype: object"
      ]
     },
     "execution_count": 131,
     "metadata": {},
     "output_type": "execute_result"
    }
   ],
   "source": [
    "\n",
    "reviewer_id_split = temp_review_df['review_id'].str.split(',', expand=False)\n",
    "\n",
    "reviewer_id_split"
   ]
  },
  {
   "cell_type": "code",
   "execution_count": 132,
   "id": "05a22353",
   "metadata": {},
   "outputs": [
    {
     "data": {
      "text/plain": [
       "0       R1LW6NWSVTVZ2H\n",
       "1       R3VR5WFKUS15C5\n",
       "2       R2F6GC79OYWUKQ\n",
       "3       R3QZ19MECGWG9A\n",
       "4       R2MPU42MYK7GPO\n",
       "             ...      \n",
       "9864    R2ZC03S4QXOW4Y\n",
       "9865    R186H8YW34BQD5\n",
       "9866    R10NC3D321N59G\n",
       "9867     REKF75G4SOAOX\n",
       "9868    R2G0ZT4JQX322I\n",
       "Name: review_id, Length: 9869, dtype: object"
      ]
     },
     "execution_count": 132,
     "metadata": {},
     "output_type": "execute_result"
    }
   ],
   "source": [
    "\n",
    "reviewer_id_exp = reviewer_id_split.explode()\n",
    "\n",
    "reviewer_id_clean = reviewer_id_exp.reset_index(drop=True)\n",
    "\n",
    "reviewer_id_clean"
   ]
  },
  {
   "cell_type": "code",
   "execution_count": 133,
   "id": "ed03f02a",
   "metadata": {},
   "outputs": [],
   "source": [
    "\n",
    "reviewer_id_clean.to_csv('reviewer_id_clean.csv', index=False)"
   ]
  },
  {
   "cell_type": "code",
   "execution_count": 134,
   "id": "7d1e5cc6",
   "metadata": {},
   "outputs": [
    {
     "data": {
      "text/plain": [
       "8444"
      ]
     },
     "execution_count": 134,
     "metadata": {},
     "output_type": "execute_result"
    }
   ],
   "source": [
    "\n",
    "review_rating_data = pd.read_csv(r'review_rating_data.csv')\n",
    "review_rating_data.to_sql('review_rating_data', conn, if_exists='append', index = False) # Insert the values from the csv file into the table 'emp'"
   ]
  },
  {
   "cell_type": "code",
   "execution_count": 140,
   "id": "05ee6e13",
   "metadata": {},
   "outputs": [
    {
     "data": {
      "text/plain": [
       "<sqlite3.Cursor at 0x2d47e055640>"
      ]
     },
     "execution_count": 140,
     "metadata": {},
     "output_type": "execute_result"
    }
   ],
   "source": [
    "\n",
    "c.execute('''\n",
    "CREATE TABLE reviews (\n",
    "  review_id TEXT PRIMARY KEY,\n",
    "  product_id TEXT,\n",
    "  review_content TEXT,\n",
    "  rating_score TEXT,\n",
    "  FOREIGN KEY(product_id) REFERENCES products(product_id)\n",
    ");\n",
    "''')\n",
    "\n"
   ]
  },
  {
   "cell_type": "code",
   "execution_count": 143,
   "id": "fed9403e",
   "metadata": {},
   "outputs": [
    {
     "data": {
      "text/plain": [
       "<sqlite3.Cursor at 0x2d47e055640>"
      ]
     },
     "execution_count": 143,
     "metadata": {},
     "output_type": "execute_result"
    }
   ],
   "source": [
    "\n",
    "c.execute('''\n",
    "INSERT INTO reviews (\n",
    "    review_id,\n",
    "    product_id,\n",
    "    review_content,\n",
    "    rating_score\n",
    ")\n",
    "SELECT\n",
    "    review_id,\n",
    "    product_id,\n",
    "    review_content,\n",
    "    rating_score\n",
    "FROM\n",
    "  review_rating_data;\n",
    "''')\n",
    "\n",
    "\n"
   ]
  },
  {
   "cell_type": "code",
   "execution_count": 144,
   "id": "bbcaf7e5",
   "metadata": {},
   "outputs": [
    {
     "data": {
      "text/html": [
       "<div>\n",
       "<style scoped>\n",
       "    .dataframe tbody tr th:only-of-type {\n",
       "        vertical-align: middle;\n",
       "    }\n",
       "\n",
       "    .dataframe tbody tr th {\n",
       "        vertical-align: top;\n",
       "    }\n",
       "\n",
       "    .dataframe thead th {\n",
       "        text-align: right;\n",
       "    }\n",
       "</style>\n",
       "<table border=\"1\" class=\"dataframe\">\n",
       "  <thead>\n",
       "    <tr style=\"text-align: right;\">\n",
       "      <th></th>\n",
       "      <th>review_id</th>\n",
       "      <th>product_id</th>\n",
       "      <th>review_content</th>\n",
       "      <th>rating_score</th>\n",
       "    </tr>\n",
       "  </thead>\n",
       "  <tbody>\n",
       "    <tr>\n",
       "      <th>0</th>\n",
       "      <td>R1LW6NWSVTVZ2H</td>\n",
       "      <td>B09F3PDDRF</td>\n",
       "      <td>Compatible with laptop SSD,Good to connect say...</td>\n",
       "      <td>Average</td>\n",
       "    </tr>\n",
       "    <tr>\n",
       "      <th>1</th>\n",
       "      <td>R3VR5WFKUS15C5</td>\n",
       "      <td>B07F6GXNPB</td>\n",
       "      <td>Bigger size,Superb.,Vacuum Bag,Price is reason...</td>\n",
       "      <td>Above Average</td>\n",
       "    </tr>\n",
       "    <tr>\n",
       "      <th>2</th>\n",
       "      <td>R2F6GC79OYWUKQ</td>\n",
       "      <td>B0BG62HMDJ</td>\n",
       "      <td>awesome,Good product,Product reviews ...,Best ...</td>\n",
       "      <td>Above Average</td>\n",
       "    </tr>\n",
       "    <tr>\n",
       "      <th>3</th>\n",
       "      <td>R3QZ19MECGWG9A</td>\n",
       "      <td>B07F6GXNPB</td>\n",
       "      <td>Bigger size,Superb.,Vacuum Bag,Price is reason...</td>\n",
       "      <td>Above Average</td>\n",
       "    </tr>\n",
       "    <tr>\n",
       "      <th>4</th>\n",
       "      <td>R2MPU42MYK7GPO</td>\n",
       "      <td>B0BG62HMDJ</td>\n",
       "      <td>awesome,Good product,Product reviews ...,Best ...</td>\n",
       "      <td>Above Average</td>\n",
       "    </tr>\n",
       "    <tr>\n",
       "      <th>...</th>\n",
       "      <td>...</td>\n",
       "      <td>...</td>\n",
       "      <td>...</td>\n",
       "      <td>...</td>\n",
       "    </tr>\n",
       "    <tr>\n",
       "      <th>8439</th>\n",
       "      <td>R30EEG2FNJSN5I</td>\n",
       "      <td>B0BG62HMDJ</td>\n",
       "      <td>awesome,Good product,Product reviews ...,Best ...</td>\n",
       "      <td>Above Average</td>\n",
       "    </tr>\n",
       "    <tr>\n",
       "      <th>8440</th>\n",
       "      <td>R2ZC03S4QXOW4Y</td>\n",
       "      <td>B0BG62HMDJ</td>\n",
       "      <td>awesome,Good product,Product reviews ...,Best ...</td>\n",
       "      <td>Above Average</td>\n",
       "    </tr>\n",
       "    <tr>\n",
       "      <th>8441</th>\n",
       "      <td>R186H8YW34BQD5</td>\n",
       "      <td>B08LKS3LSP</td>\n",
       "      <td>Product is nice,Decent cable,It charges all th...</td>\n",
       "      <td>Average</td>\n",
       "    </tr>\n",
       "    <tr>\n",
       "      <th>8442</th>\n",
       "      <td>REKF75G4SOAOX</td>\n",
       "      <td>B07F6GXNPB</td>\n",
       "      <td>Bigger size,Superb.,Vacuum Bag,Price is reason...</td>\n",
       "      <td>Above Average</td>\n",
       "    </tr>\n",
       "    <tr>\n",
       "      <th>8443</th>\n",
       "      <td>R2G0ZT4JQX322I</td>\n",
       "      <td>B0BG62HMDJ</td>\n",
       "      <td>awesome,Good product,Product reviews ...,Best ...</td>\n",
       "      <td>Above Average</td>\n",
       "    </tr>\n",
       "  </tbody>\n",
       "</table>\n",
       "<p>8444 rows × 4 columns</p>\n",
       "</div>"
      ],
      "text/plain": [
       "           review_id  product_id  \\\n",
       "0     R1LW6NWSVTVZ2H  B09F3PDDRF   \n",
       "1     R3VR5WFKUS15C5  B07F6GXNPB   \n",
       "2     R2F6GC79OYWUKQ  B0BG62HMDJ   \n",
       "3     R3QZ19MECGWG9A  B07F6GXNPB   \n",
       "4     R2MPU42MYK7GPO  B0BG62HMDJ   \n",
       "...              ...         ...   \n",
       "8439  R30EEG2FNJSN5I  B0BG62HMDJ   \n",
       "8440  R2ZC03S4QXOW4Y  B0BG62HMDJ   \n",
       "8441  R186H8YW34BQD5  B08LKS3LSP   \n",
       "8442   REKF75G4SOAOX  B07F6GXNPB   \n",
       "8443  R2G0ZT4JQX322I  B0BG62HMDJ   \n",
       "\n",
       "                                         review_content   rating_score  \n",
       "0     Compatible with laptop SSD,Good to connect say...        Average  \n",
       "1     Bigger size,Superb.,Vacuum Bag,Price is reason...  Above Average  \n",
       "2     awesome,Good product,Product reviews ...,Best ...  Above Average  \n",
       "3     Bigger size,Superb.,Vacuum Bag,Price is reason...  Above Average  \n",
       "4     awesome,Good product,Product reviews ...,Best ...  Above Average  \n",
       "...                                                 ...            ...  \n",
       "8439  awesome,Good product,Product reviews ...,Best ...  Above Average  \n",
       "8440  awesome,Good product,Product reviews ...,Best ...  Above Average  \n",
       "8441  Product is nice,Decent cable,It charges all th...        Average  \n",
       "8442  Bigger size,Superb.,Vacuum Bag,Price is reason...  Above Average  \n",
       "8443  awesome,Good product,Product reviews ...,Best ...  Above Average  \n",
       "\n",
       "[8444 rows x 4 columns]"
      ]
     },
     "execution_count": 144,
     "metadata": {},
     "output_type": "execute_result"
    }
   ],
   "source": [
    "\n",
    "temp_rr_df = pd.read_sql_query(\"SELECT * FROM reviews\", conn)\n",
    "temp_rr_df"
   ]
  },
  {
   "cell_type": "markdown",
   "id": "47383099",
   "metadata": {},
   "source": [
    "## Building Queries"
   ]
  },
  {
   "cell_type": "markdown",
   "id": "d8772c9f",
   "metadata": {},
   "source": [
    "### Query 1: Display the number of products category and subcategory wise"
   ]
  },
  {
   "cell_type": "code",
   "execution_count": 146,
   "id": "e3aef2d5",
   "metadata": {},
   "outputs": [
    {
     "data": {
      "text/plain": [
       "<sqlite3.Cursor at 0x2d47e055640>"
      ]
     },
     "execution_count": 146,
     "metadata": {},
     "output_type": "execute_result"
    }
   ],
   "source": [
    "\n",
    "c.execute('''CREATE VIEW product_count_by_category AS\n",
    "             SELECT category_1 AS main_category, category_2 AS sub_category, COUNT(*) AS product_count\n",
    "             FROM products\n",
    "             GROUP BY category_1, category_2''')\n"
   ]
  },
  {
   "cell_type": "code",
   "execution_count": 153,
   "id": "8bd6268b",
   "metadata": {},
   "outputs": [
    {
     "name": "stdout",
     "output_type": "stream",
     "text": [
      "              Main Category                                  Sub Category  \\\n",
      "0           Car & Motorbike                               Car Accessories   \n",
      "1   Computers & Accessories                                                 \n",
      "2   Computers & Accessories                     Accessories & Peripherals   \n",
      "3   Computers & Accessories                                    Components   \n",
      "4   Computers & Accessories               External Devices & Data Storage   \n",
      "5   Computers & Accessories                                       Laptops   \n",
      "6   Computers & Accessories                            Networking Devices   \n",
      "7   Computers & Accessories                  Printers, Inks & Accessories   \n",
      "8               Electronics                                                 \n",
      "9               Electronics                                   Accessories   \n",
      "10              Electronics                         Cameras & Photography   \n",
      "11              Electronics  General Purpose Batteries & Battery Chargers   \n",
      "12              Electronics             Headphones, Earbuds & Accessories   \n",
      "13              Electronics                                    Home Audio   \n",
      "14              Electronics                      Home Theater, TV & Video   \n",
      "15              Electronics                         Mobiles & Accessories   \n",
      "16              Electronics                             Power Accessories   \n",
      "17              Electronics                           Wearable Technology   \n",
      "18    Health & PersonalCare             Home Medical Supplies & Equipment   \n",
      "19           Home & Kitchen                               Craft Materials   \n",
      "20           Home & Kitchen                Heating, Cooling & Air Quality   \n",
      "21           Home & Kitchen                   Home Storage & Organization   \n",
      "22           Home & Kitchen                              Kitchen & Dining   \n",
      "23           Home & Kitchen                     Kitchen & Home Appliances   \n",
      "24         Home Improvement                                    Electrical   \n",
      "25      Musical Instruments                                   Microphones   \n",
      "26          Office Products                            Office Electronics   \n",
      "27          Office Products                         Office Paper Products   \n",
      "28             Toys & Games                                 Arts & Crafts   \n",
      "\n",
      "    Product Count  \n",
      "0               1  \n",
      "1               4  \n",
      "2             255  \n",
      "3               5  \n",
      "4              18  \n",
      "5               1  \n",
      "6              25  \n",
      "7              11  \n",
      "8               4  \n",
      "9               8  \n",
      "10             16  \n",
      "11             10  \n",
      "12             60  \n",
      "13             16  \n",
      "14            150  \n",
      "15            141  \n",
      "16              1  \n",
      "17             48  \n",
      "18              1  \n",
      "19              7  \n",
      "20            116  \n",
      "21             16  \n",
      "22              1  \n",
      "23            308  \n",
      "24              2  \n",
      "25              2  \n",
      "26              4  \n",
      "27             27  \n",
      "28              1  \n"
     ]
    }
   ],
   "source": [
    "\n",
    "c.execute('SELECT main_category, sub_category, product_count FROM product_count_by_category')\n",
    "product_count_df = pd.DataFrame(c.fetchall(), columns=['Main Category',\n",
    "'Sub Category',\n",
    "'Product Count'])\n",
    "print(product_count_df)"
   ]
  },
  {
   "cell_type": "markdown",
   "id": "78fef00d",
   "metadata": {},
   "source": [
    "### Query 2: Display the highest to lowest rated products "
   ]
  },
  {
   "cell_type": "code",
   "execution_count": 157,
   "id": "67b97a50",
   "metadata": {},
   "outputs": [
    {
     "data": {
      "text/plain": [
       "<sqlite3.Cursor at 0x2d47e055640>"
      ]
     },
     "execution_count": 157,
     "metadata": {},
     "output_type": "execute_result"
    }
   ],
   "source": [
    "#code block written by Ayesha Mulla\n",
    "c.execute('''\n",
    "CREATE VIEW products_rating AS\n",
    "SELECT product_id as product_id, product_name as product_name, rating AS rating, rating_score AS rating_score, \n",
    "FROM products\n",
    "GROUP BY rating\n",
    "ORDER BY rating DESC;\n",
    "''')\n"
   ]
  },
  {
   "cell_type": "code",
   "execution_count": 159,
   "id": "c8c36c0a",
   "metadata": {},
   "outputs": [
    {
     "name": "stdout",
     "output_type": "stream",
     "text": [
      "    Product ID                                       Product Name  Rating  \\\n",
      "0   B0BP7XLX48  Syncwire LTG to USB Cable for Fast Charging Co...     5.0   \n",
      "1   B0BR4F878Q  Swiffer Instant Electric Water Heater Faucet T...     4.8   \n",
      "2   B09WN3SRC7  Sony Bravia 164 cm (65 inches) 4K Ultra HD Sma...     4.7   \n",
      "3   B08TGG316Z  10k 8k 4k HDMI Cable, Certified 48Gbps 1ms Ult...     4.6   \n",
      "4   B00V4BGDKU  TP-Link UE300 USB 3.0 to RJ45 Gigabit Ethernet...     4.5   \n",
      "5   B014I8SSD0  Amazon Basics High-Speed HDMI Cable, 6 Feet - ...     4.4   \n",
      "6   B0B1YVCJ2Y  Acer 80 cm (32 inches) I Series HD Ready Andro...     4.3   \n",
      "7   B008IFXQFU  TP-Link USB WiFi Adapter for PC(TL-WN725N), N1...     4.2   \n",
      "8   B09ZPM4C2C  TCL 80 cm (32 inches) HD Ready Certified Andro...     4.1   \n",
      "9   B09NJN8L25  FLiX (Beetel USB to Micro USB PVC Data Sync & ...     4.0   \n",
      "10  B08Y5KXR6Z  PTron Solero T241 2.4A Type-C Data & Charging ...     3.9   \n",
      "11  B093ZNQZ2Y  LOHAYA Remote Compatible for Mi Smart LED TV 4...     3.8   \n",
      "12  B01N90RZ4M                          Tata Sky Universal Remote     3.7   \n",
      "13  B09L8DSSFH  7SEVEN® Compatible for Samsung Smart 4K Ultra ...     3.6   \n",
      "14  B08RP2L2NL  King Shine Multi Retractable 3.0A Fast Charger...     3.5   \n",
      "15  B08QX1CC14  SKYWALL 81.28 cm (32 inches) HD Ready Smart LE...     3.4   \n",
      "16  B08XMSKKMM  7SEVEN® Bluetooth Voice Command Remote for Xia...     3.3   \n",
      "17  B08RX8G496  LRIPL Mi Remote Control with Netflix & Prime V...     3.2   \n",
      "18  B09ZTZ9N3Q  Amazon Basics 2000/1000 Watt Room Heater with ...     3.1   \n",
      "19  B09F6D21BY  7SEVEN Compatible LG TV Remote Suitable for LG...     3.0   \n",
      "20  B0BBLHTRM9  IONIX Tap filter Multilayer | Activated Carbon...     2.9   \n",
      "21  B0BBVKRP7B  SHREENOVA ID116 Plus Bluetooth Fitness Smart W...     2.8   \n",
      "22  B0B7L86YCB  Green Tales Heat Seal Mini Food Sealer-Impulse...     2.6   \n",
      "23  B0BFBNXS94  Personal Size Blender, Portable Blender, Batte...     2.3   \n",
      "24  B0BPJBTB3F  Khaitan ORFin Fan heater for Home and kitchen-...     2.0   \n",
      "\n",
      "     Rating Score  \n",
      "0       Excellent  \n",
      "1   Above Average  \n",
      "2   Above Average  \n",
      "3   Above Average  \n",
      "4   Above Average  \n",
      "5   Above Average  \n",
      "6   Above Average  \n",
      "7   Above Average  \n",
      "8   Above Average  \n",
      "9   Above Average  \n",
      "10        Average  \n",
      "11        Average  \n",
      "12        Average  \n",
      "13        Average  \n",
      "14        Average  \n",
      "15        Average  \n",
      "16        Average  \n",
      "17        Average  \n",
      "18        Average  \n",
      "19        Average  \n",
      "20  Below Average  \n",
      "21  Below Average  \n",
      "22  Below Average  \n",
      "23  Below Average  \n",
      "24  Below Average  \n"
     ]
    }
   ],
   "source": [
    "\n",
    "c.execute('SELECT product_id,product_name, rating, rating_score FROM products_rating')\n",
    "products_rating_df = pd.DataFrame(c.fetchall(), columns=['Product ID',\n",
    "'Product Name',\n",
    "'Rating',                                                          \n",
    "'Rating Score'])\n",
    "print(products_rating_df)"
   ]
  },
  {
   "cell_type": "markdown",
   "id": "bdc15645",
   "metadata": {},
   "source": [
    "### Query 3: Display the category of products giving highest to lowest discount percentage and corresponding rating "
   ]
  },
  {
   "cell_type": "code",
   "execution_count": 176,
   "id": "357576f1",
   "metadata": {},
   "outputs": [
    {
     "data": {
      "text/plain": [
       "<sqlite3.Cursor at 0x2d47e055640>"
      ]
     },
     "execution_count": 176,
     "metadata": {},
     "output_type": "execute_result"
    }
   ],
   "source": [
    "\n",
    "c.execute('''\n",
    "CREATE VIEW product_discount AS\n",
    "SELECT product_id, category_1, category_2, rating_score, discount_percentage\n",
    "FROM products\n",
    "GROUP BY discount_percentage\n",
    "ORDER BY discount_percentage DESC;\n",
    "''')\n"
   ]
  },
  {
   "cell_type": "code",
   "execution_count": 177,
   "id": "8a3089c3",
   "metadata": {},
   "outputs": [
    {
     "name": "stdout",
     "output_type": "stream",
     "text": [
      "    Product ID                 Category                       Sub category  \\\n",
      "0   B097C564GC  Computers & Accessories          Accessories & Peripherals   \n",
      "1   B0BF57RN3K              Electronics                Wearable Technology   \n",
      "2   B09SJ1FTYV              Electronics              Mobiles & Accessories   \n",
      "3   B0B4T6MR8N  Computers & Accessories          Accessories & Peripherals   \n",
      "4   B08Y5KXR6Z  Computers & Accessories          Accessories & Peripherals   \n",
      "..         ...                      ...                                ...   \n",
      "87  B01F262EUU              Electronics  Headphones, Earbuds & Accessories   \n",
      "88  B0BD3T6Z1D              Electronics              Mobiles & Accessories   \n",
      "89  B009UORDX4           Home & Kitchen          Kitchen & Home Appliances   \n",
      "90  B00LZLQ624          Office Products              Office Paper Products   \n",
      "91  B071VMP1Z4              Electronics           Home Theater, TV & Video   \n",
      "\n",
      "     Rating Score  Discount Percentage  \n",
      "0   Above Average                 0.94  \n",
      "1   Above Average                 0.91  \n",
      "2   Above Average                 0.90  \n",
      "3         Average                 0.89  \n",
      "4         Average                 0.88  \n",
      "..            ...                  ...  \n",
      "87  Above Average                 0.05  \n",
      "88  Above Average                 0.04  \n",
      "89  Above Average                 0.03  \n",
      "90  Above Average                 0.02  \n",
      "91        Average                 0.00  \n",
      "\n",
      "[92 rows x 5 columns]\n"
     ]
    }
   ],
   "source": [
    "\n",
    "c.execute('SELECT product_id, category_1, category_2, rating_score, discount_percentage FROM product_discount')\n",
    "products_discount_df = pd.DataFrame(c.fetchall(), columns=['Product ID',\n",
    "'Category',  \n",
    "'Sub category',                                                      \n",
    "'Rating Score',\n",
    "'Discount Percentage'])\n",
    "print(products_discount_df)"
   ]
  },
  {
   "cell_type": "markdown",
   "id": "522f740a",
   "metadata": {},
   "source": [
    "### Query 4: Display the category of products having most reviews"
   ]
  },
  {
   "cell_type": "code",
   "execution_count": 229,
   "id": "67c4a4ab",
   "metadata": {},
   "outputs": [
    {
     "data": {
      "text/plain": [
       "<sqlite3.Cursor at 0x2d47e055640>"
      ]
     },
     "execution_count": 229,
     "metadata": {},
     "output_type": "execute_result"
    }
   ],
   "source": [
    "\n",
    "c.execute('''\n",
    "CREATE VIEW product_count_reviews AS\n",
    "SELECT p.category_1 AS category_1, p.category_2 AS category_2, COUNT(r.review_id) AS review_count\n",
    "FROM reviews r\n",
    "INNER JOIN products p on p.product_id = r.product_id\n",
    "GROUP BY category_1, category_2\n",
    "ORDER BY review_count DESC;\n",
    "\n",
    "''')"
   ]
  },
  {
   "cell_type": "code",
   "execution_count": 230,
   "id": "06454389",
   "metadata": {},
   "outputs": [
    {
     "name": "stdout",
     "output_type": "stream",
     "text": [
      "                  Category                     Sub category  Review Count\n",
      "0           Home & Kitchen        Kitchen & Home Appliances          2785\n",
      "1  Computers & Accessories  External Devices & Data Storage          2556\n",
      "2  Computers & Accessories        Accessories & Peripherals          2099\n",
      "3  Computers & Accessories     Printers, Inks & Accessories           605\n",
      "4           Home & Kitchen   Heating, Cooling & Air Quality           279\n",
      "5              Electronics         Home Theater, TV & Video           120\n"
     ]
    }
   ],
   "source": [
    "\n",
    "c.execute('SELECT category_1, category_2, review_count FROM product_count_reviews')\n",
    "product_count_reviews_df = pd.DataFrame(c.fetchall(), columns=[\n",
    "'Category',  \n",
    "'Sub category',                                                                 \n",
    "'Review Count'])\n",
    "print(product_count_reviews_df)"
   ]
  },
  {
   "cell_type": "markdown",
   "id": "e18e887c",
   "metadata": {},
   "source": [
    "### Query 5: Display the count and percentage of reviews recorded for each rating"
   ]
  },
  {
   "cell_type": "code",
   "execution_count": 231,
   "id": "69967627",
   "metadata": {},
   "outputs": [
    {
     "data": {
      "text/plain": [
       "<sqlite3.Cursor at 0x2d47e055640>"
      ]
     },
     "execution_count": 231,
     "metadata": {},
     "output_type": "execute_result"
    }
   ],
   "source": [
    "\n",
    "c.execute('''\n",
    "CREATE VIEW rating_count_reviews AS\n",
    "SELECT p.rating AS rating, COUNT(r.review_id) AS review_count, \n",
    "(COUNT(r.review_id) * 100.0 / SUM(COUNT(r.review_id)) OVER ()) AS review_percentage\n",
    "FROM reviews r\n",
    "INNER JOIN products p on p.product_id = r.product_id\n",
    "GROUP BY rating\n",
    "ORDER BY review_count DESC;\n",
    "\n",
    "''')"
   ]
  },
  {
   "cell_type": "code",
   "execution_count": 233,
   "id": "89a6e9fd",
   "metadata": {},
   "outputs": [
    {
     "name": "stdout",
     "output_type": "stream",
     "text": [
      "   Rating  Review Count  Review Percentage\n",
      "0     4.3          5114          60.563714\n",
      "1     3.9          1928          22.832781\n",
      "2     4.0           683           8.088584\n",
      "3     4.1           279           3.304121\n",
      "4     3.7           211           2.498816\n",
      "5     4.2           120           1.421127\n",
      "6     4.5           109           1.290857\n"
     ]
    }
   ],
   "source": [
    "\n",
    "c.execute('SELECT rating, review_count, review_percentage FROM rating_count_reviews')\n",
    "rating_count_reviews_df = pd.DataFrame(c.fetchall(), columns=[\n",
    "'Rating',  \n",
    "'Review Count',                                                                 \n",
    "'Review Percentage'])\n",
    "print(rating_count_reviews_df)"
   ]
  },
  {
   "cell_type": "markdown",
   "id": "91929005",
   "metadata": {},
   "source": [
    "### Query 6: Display the categorywise discount percentage offered and reviews written for corresponding category"
   ]
  },
  {
   "cell_type": "code",
   "execution_count": 258,
   "id": "9edd79e8",
   "metadata": {},
   "outputs": [
    {
     "data": {
      "text/plain": [
       "<sqlite3.Cursor at 0x2d47e055640>"
      ]
     },
     "execution_count": 258,
     "metadata": {},
     "output_type": "execute_result"
    }
   ],
   "source": [
    "\n",
    "c.execute('''\n",
    "CREATE VIEW category_discount_reviews AS\n",
    "SELECT p.category_1 AS category_1, p.category_2 AS category_2, p.discount_percentage AS discount_percentage, p.rating_score AS rating_score, r.review_content AS review_content\n",
    "FROM products p\n",
    "INNER JOIN reviews r ON p.product_id = r.product_id\n",
    "ORDER BY discount_percentage DESC;\n",
    "''')\n"
   ]
  },
  {
   "cell_type": "code",
   "execution_count": 259,
   "id": "b27c1a75",
   "metadata": {},
   "outputs": [
    {
     "name": "stdout",
     "output_type": "stream",
     "text": [
      "                Main Category                  Sub category  \\\n",
      "0     Computers & Accessories     Accessories & Peripherals   \n",
      "1     Computers & Accessories     Accessories & Peripherals   \n",
      "2     Computers & Accessories     Accessories & Peripherals   \n",
      "3     Computers & Accessories     Accessories & Peripherals   \n",
      "4     Computers & Accessories     Accessories & Peripherals   \n",
      "...                       ...                           ...   \n",
      "8439  Computers & Accessories  Printers, Inks & Accessories   \n",
      "8440  Computers & Accessories  Printers, Inks & Accessories   \n",
      "8441  Computers & Accessories  Printers, Inks & Accessories   \n",
      "8442  Computers & Accessories  Printers, Inks & Accessories   \n",
      "8443  Computers & Accessories  Printers, Inks & Accessories   \n",
      "\n",
      "      Discount Percentage Rating Score  \\\n",
      "0                    0.65      Average   \n",
      "1                    0.65      Average   \n",
      "2                    0.65      Average   \n",
      "3                    0.65      Average   \n",
      "4                    0.65      Average   \n",
      "...                   ...          ...   \n",
      "8439                 0.17      Average   \n",
      "8440                 0.17      Average   \n",
      "8441                 0.17      Average   \n",
      "8442                 0.17      Average   \n",
      "8443                 0.17      Average   \n",
      "\n",
      "                                         Review Content  \n",
      "0     Compatible with laptop SSD,Good to connect say...  \n",
      "1     Compatible with laptop SSD,Good to connect say...  \n",
      "2     Compatible with laptop SSD,Good to connect say...  \n",
      "3     Compatible with laptop SSD,Good to connect say...  \n",
      "4     Compatible with laptop SSD,Good to connect say...  \n",
      "...                                                 ...  \n",
      "8439  Good printer but challenging setup,Use friendl...  \n",
      "8440  Good printer but challenging setup,Use friendl...  \n",
      "8441  Good printer but challenging setup,Use friendl...  \n",
      "8442  Good printer but challenging setup,Use friendl...  \n",
      "8443  Good printer but challenging setup,Use friendl...  \n",
      "\n",
      "[8444 rows x 5 columns]\n"
     ]
    }
   ],
   "source": [
    "\n",
    "c.execute('SELECT category_1, category_2, discount_percentage,rating_score,review_content FROM category_discount_reviews')\n",
    "category_discount_reviews_df = pd.DataFrame(c.fetchall(), columns=[\n",
    "'Main Category',  \n",
    "'Sub category',                                                                 \n",
    "'Discount Percentage',\n",
    "'Rating Score',\n",
    "'Review Content'])\n",
    "print(category_discount_reviews_df)"
   ]
  },
  {
   "cell_type": "code",
   "execution_count": null,
   "id": "74260e0a",
   "metadata": {},
   "outputs": [],
   "source": [
    "\n",
    "conn.close()"
   ]
  },
  {
   "cell_type": "markdown",
   "id": "2219f5d9",
   "metadata": {},
   "source": [
    "## References:\n",
    "### 1.\thttps://learn.microsoft.com/en-us/sql/relational-databases/tables/primary-and-foreign-key-constraints?view=sql-server-ver16 - for primary key and foreign key constraints and general understanding of concepts\n",
    "### 2.\thttps://www.sqlshack.com/ - for relationships definitions\n",
    "### 3.\thttps://www.w3schools.com/sql/ - for syntax of all the sql queries\n"
   ]
  }
 ],
 "metadata": {
  "kernelspec": {
   "display_name": "Python 3 (ipykernel)",
   "language": "python",
   "name": "python3"
  },
  "language_info": {
   "codemirror_mode": {
    "name": "ipython",
    "version": 3
   },
   "file_extension": ".py",
   "mimetype": "text/x-python",
   "name": "python",
   "nbconvert_exporter": "python",
   "pygments_lexer": "ipython3",
   "version": "3.10.6"
  }
 },
 "nbformat": 4,
 "nbformat_minor": 5
}
